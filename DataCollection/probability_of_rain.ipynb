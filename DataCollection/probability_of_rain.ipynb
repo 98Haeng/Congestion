{
 "cells": [
  {
   "cell_type": "markdown",
   "id": "da33490c",
   "metadata": {},
   "source": [
    "# 기상 데이터 전처리\n",
    "\n",
    "## 기상 데이터 전처리 (강수확률)\n",
    "\n",
    "\n",
    "제주도 지역별 강수확률 데이터를 가져온 후, 조건에 맞는 값을 예측값으로 지정하여 확인한 후 최종 강수확률 데이터로 저장\n",
    "\n",
    "[데이터셋 변수 설명] \n",
    "- 일 : 일자 (1~31)\n",
    "- UTC : 예측 시간(그리니치 천문대 기준 -> 실제 한국 시간으로는 +9시간)\n",
    "- 예측 + 시간 : UTC 변환 이후 몇시간 뒤의 데이터를 예측할지 (EX, 7이면 7시간 이후)\n",
    "- 강수 확률 : 강수확률 (단위 : %)\n",
    "\n",
    "[전처리 과정 설명] \n",
    "2:00(UTC시간대 기준)의 7시간 뒤의 예측값만을 추출하여 데이터프레임으로 구성하고자 함 \n",
    "- UTC == 200, 예측 + 시간 == 7인 행만을 조건 아래 추출 \n",
    "- 조건 색인 이후 불필요한 열인 UTC , 예측+시간 컬럼을 drop\n",
    "- 1~30의 int 형태로 나열되어 있는 일 컬럼을 날짜 형태(2021-01-01 ~ 2021-12-31)로 변환 \n",
    "    \n",
    "[기타 데이터 관련 설명] \n",
    "- 제주시 및 서귀포시 기준 행정동은 네이버 날씨의 대표값을 따름 (천지동의 경우 네이버 날씨에서는 서귀동을 기준으로 하지만 냘씨 예보는 법정동을 기준으로 하여 그에 준응하는 천지동의 데이터를 사용함) \n",
    "- 각 일자에 대한 예측값은 UTC기준 2:00AM (한국 시간, 11:00AM)에 발표된 해당 날짜의 18:00(KST)에 대한 예측값을 사용함\n",
    "\n",
    "source : 기상청 - 기상자료개방포털 (2021/01-2021/06은 (구)단기 예보 파일셋 활용, 2021/07-2021/12은 단기 예보 파일셋 활용)\n",
    "https://data.kma.go.kr/data/rmt/rmtList.do?code=420&pgmNo=572"
   ]
  },
  {
   "cell_type": "code",
   "execution_count": 54,
   "id": "6adff5a1",
   "metadata": {},
   "outputs": [],
   "source": [
    "# 라이브러리 불러오기\n",
    "import pandas as pd\n",
    "import numpy as np"
   ]
  },
  {
   "cell_type": "code",
   "execution_count": 55,
   "id": "f654bb1e",
   "metadata": {},
   "outputs": [],
   "source": [
    "# 제주시, 서귀포시 데이터 불러오기\n",
    "df1 = pd.read_csv('../Dataset/raw_data/weather/precip_prob/precip_prob_j/아라동_강수확률_202101_202106.csv') # 제주시 전반기\n",
    "df2 = pd.read_csv('../Dataset/raw_data/weather/precip_prob/precip_prob_j/아라동_강수확률_20210701_20211231.csv') # 제주시 후반기\n",
    "# df2 = pd.read_csv('아라동_강수확률_20210701_20211231.csv')\n",
    "df3 = pd.read_csv('../Dataset/raw_data/weather/precip_prob/precip_prob_s/천지동_강수확률_202101_202106.csv') # 서귀포시 전반기\n",
    "df4 = pd.read_csv('../Dataset/raw_data/weather/precip_prob/precip_prob_s/천지동_강수확률_20210701_20211231.csv', dtype=str) # 서귀포시 후반기\n",
    "# df4 = pd.read_csv('천지동_강수확률_20210701_20211231.csv', dtype=str) # 서귀포시 후반기"
   ]
  },
  {
   "cell_type": "code",
   "execution_count": 56,
   "id": "a1730bbb",
   "metadata": {},
   "outputs": [
    {
     "data": {
      "text/plain": [
       "((26793, 4), (93656, 4), (26793, 4), (93656, 4))"
      ]
     },
     "execution_count": 56,
     "metadata": {},
     "output_type": "execute_result"
    }
   ],
   "source": [
    "df1.shape, df2.shape, df3.shape, df4.shape"
   ]
  },
  {
   "cell_type": "code",
   "execution_count": 57,
   "id": "f0c6e20e",
   "metadata": {},
   "outputs": [],
   "source": [
    "# 모든 데이터 칼럼명 재지정\n",
    "df1.columns = ['일','UTC','예측+시간','강수확률']\n",
    "df2.columns = ['일','UTC','예측+시간','강수확률']\n",
    "df3.columns = ['일','UTC','예측+시간','강수확률']\n",
    "df4.columns = ['일','UTC','예측+시간','강수확률']"
   ]
  },
  {
   "cell_type": "code",
   "execution_count": 58,
   "id": "48c4414d",
   "metadata": {},
   "outputs": [
    {
     "data": {
      "text/html": [
       "<div>\n",
       "<style scoped>\n",
       "    .dataframe tbody tr th:only-of-type {\n",
       "        vertical-align: middle;\n",
       "    }\n",
       "\n",
       "    .dataframe tbody tr th {\n",
       "        vertical-align: top;\n",
       "    }\n",
       "\n",
       "    .dataframe thead th {\n",
       "        text-align: right;\n",
       "    }\n",
       "</style>\n",
       "<table border=\"1\" class=\"dataframe\">\n",
       "  <thead>\n",
       "    <tr style=\"text-align: right;\">\n",
       "      <th></th>\n",
       "      <th>일</th>\n",
       "      <th>UTC</th>\n",
       "      <th>예측+시간</th>\n",
       "      <th>강수확률</th>\n",
       "    </tr>\n",
       "  </thead>\n",
       "  <tbody>\n",
       "    <tr>\n",
       "      <th>0</th>\n",
       "      <td>1</td>\n",
       "      <td>200</td>\n",
       "      <td>6</td>\n",
       "      <td>0</td>\n",
       "    </tr>\n",
       "    <tr>\n",
       "      <th>1</th>\n",
       "      <td>1</td>\n",
       "      <td>200</td>\n",
       "      <td>7</td>\n",
       "      <td>20</td>\n",
       "    </tr>\n",
       "    <tr>\n",
       "      <th>2</th>\n",
       "      <td>1</td>\n",
       "      <td>200</td>\n",
       "      <td>8</td>\n",
       "      <td>0</td>\n",
       "    </tr>\n",
       "    <tr>\n",
       "      <th>3</th>\n",
       "      <td>1</td>\n",
       "      <td>200</td>\n",
       "      <td>9</td>\n",
       "      <td>0</td>\n",
       "    </tr>\n",
       "    <tr>\n",
       "      <th>4</th>\n",
       "      <td>1</td>\n",
       "      <td>200</td>\n",
       "      <td>10</td>\n",
       "      <td>0</td>\n",
       "    </tr>\n",
       "    <tr>\n",
       "      <th>...</th>\n",
       "      <td>...</td>\n",
       "      <td>...</td>\n",
       "      <td>...</td>\n",
       "      <td>...</td>\n",
       "    </tr>\n",
       "    <tr>\n",
       "      <th>93651</th>\n",
       "      <td>31</td>\n",
       "      <td>2300</td>\n",
       "      <td>61</td>\n",
       "      <td>0</td>\n",
       "    </tr>\n",
       "    <tr>\n",
       "      <th>93652</th>\n",
       "      <td>31</td>\n",
       "      <td>2300</td>\n",
       "      <td>62</td>\n",
       "      <td>0</td>\n",
       "    </tr>\n",
       "    <tr>\n",
       "      <th>93653</th>\n",
       "      <td>31</td>\n",
       "      <td>2300</td>\n",
       "      <td>63</td>\n",
       "      <td>0</td>\n",
       "    </tr>\n",
       "    <tr>\n",
       "      <th>93654</th>\n",
       "      <td>31</td>\n",
       "      <td>2300</td>\n",
       "      <td>64</td>\n",
       "      <td>0</td>\n",
       "    </tr>\n",
       "    <tr>\n",
       "      <th>93655</th>\n",
       "      <td></td>\n",
       "      <td>NaN</td>\n",
       "      <td>NaN</td>\n",
       "      <td>NaN</td>\n",
       "    </tr>\n",
       "  </tbody>\n",
       "</table>\n",
       "<p>93656 rows × 4 columns</p>\n",
       "</div>"
      ],
      "text/plain": [
       "        일   UTC 예측+시간 강수확률\n",
       "0       1   200     6    0\n",
       "1       1   200     7   20\n",
       "2       1   200     8    0\n",
       "3       1   200     9    0\n",
       "4       1   200    10    0\n",
       "...    ..   ...   ...  ...\n",
       "93651  31  2300    61    0\n",
       "93652  31  2300    62    0\n",
       "93653  31  2300    63    0\n",
       "93654  31  2300    64    0\n",
       "93655       NaN   NaN  NaN\n",
       "\n",
       "[93656 rows x 4 columns]"
      ]
     },
     "execution_count": 58,
     "metadata": {},
     "output_type": "execute_result"
    }
   ],
   "source": [
    "df4"
   ]
  },
  {
   "cell_type": "code",
   "execution_count": 59,
   "id": "10016f66",
   "metadata": {},
   "outputs": [],
   "source": [
    "# 특정 조건에 해당하는 칼럼만 데이터로 지정\n",
    "# 조건 : UTC->200, 예측+시간->7.0 (그리니치 천문대 기준 오전 2시, 즉 한국 기준 11시에서 예측한 7시간 뒤의 기온 -> 오후 6시 기온)\n",
    "fc1 = df1[(df1['UTC']==200.0) & (df1['예측+시간']==7.0)] # 아라동 전반기\n",
    "fc2 = df2[(df2['UTC']==200.0) & (df2['예측+시간']==7.0)] # 아라동 후반기\n",
    "fc3 = df3[(df3['UTC']==200.0) & (df3['예측+시간']==7.0)] # 천지동 전반기\n",
    "fc4 = df4[(df4['UTC']=='200') & (df4['예측+시간']=='7')] # 천지동 후반기"
   ]
  },
  {
   "cell_type": "code",
   "execution_count": 60,
   "id": "08fa80cf",
   "metadata": {},
   "outputs": [
    {
     "data": {
      "text/plain": [
       "((181, 4), (184, 4), (181, 4), (184, 4))"
      ]
     },
     "execution_count": 60,
     "metadata": {},
     "output_type": "execute_result"
    }
   ],
   "source": [
    "fc1.shape, fc2.shape, fc3.shape, fc4.shape"
   ]
  },
  {
   "cell_type": "code",
   "execution_count": 61,
   "id": "cc5515b5",
   "metadata": {},
   "outputs": [
    {
     "data": {
      "text/plain": [
       "['2021-01-01', '2021-01-02', '2021-01-03', '2021-01-04', '2021-01-05']"
      ]
     },
     "execution_count": 61,
     "metadata": {},
     "output_type": "execute_result"
    }
   ],
   "source": [
    "# 함수를 이용해서 2021-01-01부터 2021-12-31까지 모든 데이터 불러옴\n",
    "from datetime import datetime, timedelta\n",
    "# 해당 범위 내의 날짜들을 리스트로 지정해주는 함수\n",
    "def date_range(start, end):\n",
    "    start = datetime.strptime(start, \"%Y-%m-%d\")\n",
    "    end = datetime.strptime(end, \"%Y-%m-%d\")\n",
    "    dates = [(start + timedelta(days=i)).strftime(\"%Y-%m-%d\") for i in range((end-start).days+1)]\n",
    "    return dates\n",
    "# 2021-01-01 ~ 2021-12-31 사이의 날짜를 리스트로 지정\n",
    "date_list = date_range(\"2021-01-01\", \"2021-12-31\")\n",
    "# 대표적으로 앞의 5개만 추출\n",
    "date_list[:5]"
   ]
  },
  {
   "cell_type": "code",
   "execution_count": 62,
   "id": "4d2f244a",
   "metadata": {},
   "outputs": [
    {
     "data": {
      "text/plain": [
       "365"
      ]
     },
     "execution_count": 62,
     "metadata": {},
     "output_type": "execute_result"
    }
   ],
   "source": [
    "# 제주시 데이터를 합침\n",
    "ara = pd.concat([fc1,fc2])\n",
    "# date_list를 ara데이터의 날짜 칼럼에 저장\n",
    "ara['날짜'] = date_list\n",
    "# 순서 지정 및 특정 데이터만 가져옴\n",
    "ara = ara[['날짜','일','강수확률']]\n",
    "# 길이 확인(1월1일부터 12월 31일까지 이상없이 있는지)\n",
    "len(ara)"
   ]
  },
  {
   "cell_type": "code",
   "execution_count": 63,
   "id": "cb1f4e6c",
   "metadata": {},
   "outputs": [
    {
     "data": {
      "text/plain": [
       "365"
      ]
     },
     "execution_count": 63,
     "metadata": {},
     "output_type": "execute_result"
    }
   ],
   "source": [
    "# 서귀포시 데이터를 합침\n",
    "cheonji = pd.concat([fc3,fc4])\n",
    "# date_list를 cheonji데이터의 날짜 칼럼에 저장\n",
    "cheonji['날짜'] = date_list\n",
    "# 순서 지정 및 특정 데이터만 가져옴\n",
    "cheonji = cheonji[['날짜','일','강수확률']]\n",
    "# 길이 확인(1월1일부터 12월 31일까지 이상없이 있는지)\n",
    "len(cheonji)"
   ]
  },
  {
   "cell_type": "code",
   "execution_count": 172,
   "id": "839fcd3e",
   "metadata": {},
   "outputs": [],
   "source": [
    "# 데이터 저장\n",
    "ara.to_csv('아라동강수확률.csv',index=False, encoding = 'utf-8-sig')\n",
    "cheonji.to_csv('천지동강수확률.csv',index=False, encoding = 'utf-8-sig')"
   ]
  },
  {
   "cell_type": "code",
   "execution_count": 189,
   "id": "eef61d75",
   "metadata": {},
   "outputs": [
    {
     "data": {
      "text/plain": [
       " 1     12\n",
       " 2     12\n",
       " 28    12\n",
       " 27    12\n",
       " 26    12\n",
       " 25    12\n",
       " 24    12\n",
       " 23    12\n",
       " 22    12\n",
       " 21    12\n",
       " 20    12\n",
       " 19    12\n",
       " 18    12\n",
       " 17    12\n",
       " 16    12\n",
       " 15    12\n",
       " 14    12\n",
       " 13    12\n",
       " 12    12\n",
       " 11    12\n",
       " 10    12\n",
       " 9     12\n",
       " 8     12\n",
       " 7     12\n",
       " 6     12\n",
       " 5     12\n",
       " 4     12\n",
       " 3     12\n",
       " 29    11\n",
       " 30    11\n",
       " 31     7\n",
       "Name: 일, dtype: int64"
      ]
     },
     "execution_count": 189,
     "metadata": {},
     "output_type": "execute_result"
    }
   ],
   "source": [
    "# 일 데이터가 이상이 없는지 확인(ex. 1일이 12개, 30일이 11개..)\n",
    "cheonji['일'].value_counts()"
   ]
  }
 ],
 "metadata": {
  "kernelspec": {
   "display_name": "Python 3 (ipykernel)",
   "language": "python",
   "name": "python3"
  },
  "language_info": {
   "codemirror_mode": {
    "name": "ipython",
    "version": 3
   },
   "file_extension": ".py",
   "mimetype": "text/x-python",
   "name": "python",
   "nbconvert_exporter": "python",
   "pygments_lexer": "ipython3",
   "version": "3.8.5"
  }
 },
 "nbformat": 4,
 "nbformat_minor": 5
}
