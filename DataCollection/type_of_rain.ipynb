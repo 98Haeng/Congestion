{
 "cells": [
  {
   "cell_type": "markdown",
   "id": "519527ff",
   "metadata": {},
   "source": [
    "# 기상 데이터 전처리\n",
    "\n",
    "## 기상 데이터 전처리 (강수형태)\n",
    "\n",
    "\n",
    " 제주도 지역별 강수형태 데이터를 가져온 후, 조건에 맞는 값을 예측값으로 지정하여 확인한 후 최종 강수형태 데이터로 저장\n",
    "\n",
    "\n",
    "[데이터셋 변수 설명] \n",
    "- 일 : 일자 (1~31)\n",
    "- UTC : 예측 시간(그리니치 천문대 기준 -> 실제 한국 시간으로는 +9시간)\n",
    "- 예측 + 시간 : UTC 변환 이후 몇시간 뒤의 데이터를 예측할지 (EX, 7이면 7시간 이후)\n",
    "- 강수 형태 : 강수 형태 (0 -> 강수 없음, 1 -> 비, 2 -> 눈, 3 -> 눈비)\n",
    "    - 0의 경우 눈, 비 그 어떠한 것도 내리지 않음\n",
    "    \n",
    "[전처리 과정 설명] \n",
    "2:00(UTC시간대 기준)의 7시간 뒤의 예측값만을 추출하여 데이터프레임으로 구성하고자 함 \n",
    "- UTC == 200, 예측 + 시간 == 7인 행만을 조건 아래 추출 \n",
    "- 조건 색인 이후 불필요한 컬럼인 UTC , 예측+시간 컬럼을 drop\n",
    "- 1~30의 int 형태로 나열되어 있는 일 컬럼을 날짜 형태(2021-01-01 ~ 2021-12-31)로 변환 \n",
    "\n",
    "[기타 데이터 관련 설명] \n",
    "- 제주시 및 서귀포시 기준 행정동은 네이버 날씨의 대표값을 따름 (천지동의 경우 네이버 날씨에서는 서귀동을 기준으로 하지만 냘씨 예보는 법정동을 기준으로 하여 그에 준응하는 천지동의 데이터를 사용함) \n",
    "- 각 일자에 대한 예측값은 UTC기준 2:00AM (한국 시간, 11:00AM)에 발표된 해당 날짜의 18:00(KST)에 대한 예측값을 사용함\n",
    "\n",
    "source : 기상청 - 기상자료개방포털 (2021/01-2021/06은 (구)단기 예보 파일셋 활용, 2021/07-2021/12은 단기 예보 파일셋 활용)\n",
    "https://data.kma.go.kr/data/rmt/rmtList.do?code=420&pgmNo=572"
   ]
  },
  {
   "cell_type": "markdown",
   "id": "111abac4",
   "metadata": {},
   "source": [
    "# 서귀포시 천지동 강수형태 "
   ]
  },
  {
   "cell_type": "code",
   "execution_count": 34,
   "id": "f3611d1c",
   "metadata": {},
   "outputs": [],
   "source": [
    "# 라이브러리 불러오기\n",
    "import pandas as pd\n",
    "import numpy as np"
   ]
  },
  {
   "cell_type": "code",
   "execution_count": 38,
   "id": "111c7c9e",
   "metadata": {},
   "outputs": [],
   "source": [
    "# 서귀포시 강수형태 데이터 불러오기\n",
    "df1 = pd.read_csv('../Dataset/raw_data/weather/precip_type/precip_type_s/천지동_강수형태_202101_202106.csv') # 전반기\n",
    "df2 = pd.read_csv('../Dataset/raw_data/weather/precip_type/precip_type_s/천지동_강수형태_20210701_20211231 2.csv') # 후반기"
   ]
  },
  {
   "cell_type": "code",
   "execution_count": 6,
   "id": "6c76110e",
   "metadata": {},
   "outputs": [],
   "source": [
    "# 모든 데이터 칼럼명 재정렬\n",
    "df1.columns = ['일','UTC','예측+시간','강수형태']\n",
    "df2.columns = ['일','UTC','예측+시간','강수형태']"
   ]
  },
  {
   "cell_type": "code",
   "execution_count": 7,
   "id": "b86261cb",
   "metadata": {},
   "outputs": [],
   "source": [
    "# 특정 조건에 해당하는 칼럼만 데이터로 지정\n",
    "# 조건 : UTC->200, 예측+시간->7.0 (그리니치 천문대 기준 오전 2시, 즉 한국 기준 11시에서 예측한 7시간 뒤의 기온 -> 오후 6시 기온)\n",
    "fc1 = df1[(df1['UTC']==200.0) & (df1['예측+시간']==7.0)] # 아라동 전반기\n",
    "fc2 = df2[(df2['UTC']==200.0) & (df2['예측+시간']==7.0)] # 아라동 하반기"
   ]
  },
  {
   "cell_type": "code",
   "execution_count": 8,
   "id": "9ab3413b",
   "metadata": {},
   "outputs": [
    {
     "name": "stderr",
     "output_type": "stream",
     "text": [
      "C:\\Users\\LeeSH\\AppData\\Local\\Temp\\ipykernel_11112\\2020814971.py:3: SettingWithCopyWarning: \n",
      "A value is trying to be set on a copy of a slice from a DataFrame\n",
      "\n",
      "See the caveats in the documentation: https://pandas.pydata.org/pandas-docs/stable/user_guide/indexing.html#returning-a-view-versus-a-copy\n",
      "  fc2.loc[6619] = [15,200.0,7.0,0.0]\n"
     ]
    }
   ],
   "source": [
    "# 특정 위치에 결측치가 존재하여 이 값을 채우기\n",
    "# 7월 15일 값이 결측치이므로 7월 14일 13시에 예측한 7월 15일 예측값을 사용하도록 한다.\n",
    "fc2.loc[6619] = [15,200.0,7.0,0.0]"
   ]
  },
  {
   "cell_type": "code",
   "execution_count": 9,
   "id": "73793dcf",
   "metadata": {
    "scrolled": true
   },
   "outputs": [],
   "source": [
    "# 인덱스 기준으로 정렬\n",
    "fc2 = fc2.sort_index()"
   ]
  },
  {
   "cell_type": "code",
   "execution_count": 10,
   "id": "c1180c3f",
   "metadata": {},
   "outputs": [
    {
     "data": {
      "text/plain": [
       "['2021-01-01', '2021-01-02', '2021-01-03', '2021-01-04', '2021-01-05']"
      ]
     },
     "execution_count": 10,
     "metadata": {},
     "output_type": "execute_result"
    }
   ],
   "source": [
    "# 함수를 이용해서 2021-01-01부터 2021-12-31까지 모든 데이터 불러옴\n",
    "from datetime import datetime, timedelta\n",
    "# 해당 범위 내의 날짜들을 리스트로 지정해주는 함수\n",
    "def date_range(start, end):\n",
    "    start = datetime.strptime(start, \"%Y-%m-%d\")\n",
    "    end = datetime.strptime(end, \"%Y-%m-%d\")\n",
    "    dates = [(start + timedelta(days=i)).strftime(\"%Y-%m-%d\") for i in range((end-start).days+1)]\n",
    "    return dates\n",
    "# 2021-01-01 ~ 2021-12-31 사이의 날짜를 리스트로 지정\n",
    "date_list = date_range(\"2021-01-01\", \"2021-12-31\")\n",
    "# 대표적으로 앞의 5개만 추출\n",
    "date_list[:5]"
   ]
  },
  {
   "cell_type": "code",
   "execution_count": 11,
   "id": "bc593ff2",
   "metadata": {},
   "outputs": [
    {
     "data": {
      "text/plain": [
       "365"
      ]
     },
     "execution_count": 11,
     "metadata": {},
     "output_type": "execute_result"
    }
   ],
   "source": [
    "# 6개월씩 나뉘어진 데이터를 하나로 합침\n",
    "chunji = pd.concat([fc1,fc2])\n",
    "# date_list를 서귀포시 데이터(chunji)의 날짜 칼럼으로 갖고옴\n",
    "chunji['날짜'] = date_list\n",
    "# 칼럼 순서 지정 및 특정 데이터만 가져옴\n",
    "chunji = chunji[['날짜','일','강수형태']]\n",
    "# 길이 확인(1월1일부터 12월 31일까지 이상없이 있는지)\n",
    "len(chunji)"
   ]
  },
  {
   "cell_type": "code",
   "execution_count": 12,
   "id": "ed39b7a1",
   "metadata": {},
   "outputs": [],
   "source": [
    "# 데이터 저장\n",
    "chunji.to_csv('../Dataset/raw_data/weather/천지동강수형태.csv', index=False, encoding = 'utf-8-sig')"
   ]
  },
  {
   "cell_type": "markdown",
   "id": "f37e69ee",
   "metadata": {},
   "source": [
    "# 제주시 아라동 강수형태"
   ]
  },
  {
   "cell_type": "code",
   "execution_count": 14,
   "id": "f1bf2062",
   "metadata": {},
   "outputs": [
    {
     "name": "stderr",
     "output_type": "stream",
     "text": [
      "WARNING: Ignoring invalid distribution -unjeon (c:\\users\\leesh\\anaconda3\\lib\\site-packages)\n",
      "WARNING: Ignoring invalid distribution -unjeon (c:\\users\\leesh\\anaconda3\\lib\\site-packages)\n",
      "ERROR: Could not find a version that satisfies the requirement glob (from versions: none)\n",
      "ERROR: No matching distribution found for glob\n",
      "WARNING: Ignoring invalid distribution -unjeon (c:\\users\\leesh\\anaconda3\\lib\\site-packages)\n",
      "WARNING: Ignoring invalid distribution -unjeon (c:\\users\\leesh\\anaconda3\\lib\\site-packages)\n",
      "WARNING: Ignoring invalid distribution -unjeon (c:\\users\\leesh\\anaconda3\\lib\\site-packages)\n"
     ]
    }
   ],
   "source": [
    "!pip install glob"
   ]
  },
  {
   "cell_type": "code",
   "execution_count": 15,
   "id": "97ce247d",
   "metadata": {},
   "outputs": [],
   "source": [
    "from glob import glob"
   ]
  },
  {
   "cell_type": "code",
   "execution_count": 21,
   "id": "072df306",
   "metadata": {},
   "outputs": [
    {
     "data": {
      "text/html": [
       "<div>\n",
       "<style scoped>\n",
       "    .dataframe tbody tr th:only-of-type {\n",
       "        vertical-align: middle;\n",
       "    }\n",
       "\n",
       "    .dataframe tbody tr th {\n",
       "        vertical-align: top;\n",
       "    }\n",
       "\n",
       "    .dataframe thead th {\n",
       "        text-align: right;\n",
       "    }\n",
       "</style>\n",
       "<table border=\"1\" class=\"dataframe\">\n",
       "  <thead>\n",
       "    <tr style=\"text-align: right;\">\n",
       "      <th></th>\n",
       "      <th>day</th>\n",
       "      <th>hour</th>\n",
       "      <th>forecast</th>\n",
       "      <th>precipitation type</th>\n",
       "    </tr>\n",
       "  </thead>\n",
       "  <tbody>\n",
       "    <tr>\n",
       "      <th>0</th>\n",
       "      <td>1</td>\n",
       "      <td>200.0</td>\n",
       "      <td>4.0</td>\n",
       "      <td>0.0</td>\n",
       "    </tr>\n",
       "    <tr>\n",
       "      <th>1</th>\n",
       "      <td>1</td>\n",
       "      <td>200.0</td>\n",
       "      <td>7.0</td>\n",
       "      <td>0.0</td>\n",
       "    </tr>\n",
       "    <tr>\n",
       "      <th>2</th>\n",
       "      <td>1</td>\n",
       "      <td>200.0</td>\n",
       "      <td>10.0</td>\n",
       "      <td>0.0</td>\n",
       "    </tr>\n",
       "    <tr>\n",
       "      <th>3</th>\n",
       "      <td>1</td>\n",
       "      <td>200.0</td>\n",
       "      <td>13.0</td>\n",
       "      <td>0.0</td>\n",
       "    </tr>\n",
       "    <tr>\n",
       "      <th>4</th>\n",
       "      <td>1</td>\n",
       "      <td>200.0</td>\n",
       "      <td>16.0</td>\n",
       "      <td>0.0</td>\n",
       "    </tr>\n",
       "    <tr>\n",
       "      <th>...</th>\n",
       "      <td>...</td>\n",
       "      <td>...</td>\n",
       "      <td>...</td>\n",
       "      <td>...</td>\n",
       "    </tr>\n",
       "    <tr>\n",
       "      <th>93650</th>\n",
       "      <td>31</td>\n",
       "      <td>2300.0</td>\n",
       "      <td>60.0</td>\n",
       "      <td>0.0</td>\n",
       "    </tr>\n",
       "    <tr>\n",
       "      <th>93651</th>\n",
       "      <td>31</td>\n",
       "      <td>2300.0</td>\n",
       "      <td>61.0</td>\n",
       "      <td>0.0</td>\n",
       "    </tr>\n",
       "    <tr>\n",
       "      <th>93652</th>\n",
       "      <td>31</td>\n",
       "      <td>2300.0</td>\n",
       "      <td>62.0</td>\n",
       "      <td>0.0</td>\n",
       "    </tr>\n",
       "    <tr>\n",
       "      <th>93653</th>\n",
       "      <td>31</td>\n",
       "      <td>2300.0</td>\n",
       "      <td>63.0</td>\n",
       "      <td>0.0</td>\n",
       "    </tr>\n",
       "    <tr>\n",
       "      <th>93654</th>\n",
       "      <td>31</td>\n",
       "      <td>2300.0</td>\n",
       "      <td>64.0</td>\n",
       "      <td>0.0</td>\n",
       "    </tr>\n",
       "  </tbody>\n",
       "</table>\n",
       "<p>120448 rows × 4 columns</p>\n",
       "</div>"
      ],
      "text/plain": [
       "       day    hour  forecast  precipitation type\n",
       "0        1   200.0       4.0                 0.0\n",
       "1        1   200.0       7.0                 0.0\n",
       "2        1   200.0      10.0                 0.0\n",
       "3        1   200.0      13.0                 0.0\n",
       "4        1   200.0      16.0                 0.0\n",
       "...    ...     ...       ...                 ...\n",
       "93650   31  2300.0      60.0                 0.0\n",
       "93651   31  2300.0      61.0                 0.0\n",
       "93652   31  2300.0      62.0                 0.0\n",
       "93653   31  2300.0      63.0                 0.0\n",
       "93654   31  2300.0      64.0                 0.0\n",
       "\n",
       "[120448 rows x 4 columns]"
      ]
     },
     "execution_count": 21,
     "metadata": {},
     "output_type": "execute_result"
    }
   ],
   "source": [
    "file_names = glob('../Dataset/raw_data/weather/precip_type/precip_type_j/*.csv')\n",
    "precipitation_1 = pd.DataFrame() \n",
    "\n",
    "\n",
    "for file_name in file_names:\n",
    "    temp = pd.read_csv(file_name, encoding='cp949')\n",
    "    temp.rename(columns = {temp.columns[0]:'day', temp.columns[3]:'precipitation type'}, inplace=True)\n",
    "\n",
    "    precipitation_1 = pd.concat([precipitation_1, temp])\n",
    "\n",
    "\n",
    "precipitation_1"
   ]
  },
  {
   "cell_type": "code",
   "execution_count": 22,
   "id": "7aec4677",
   "metadata": {},
   "outputs": [
    {
     "name": "stdout",
     "output_type": "stream",
     "text": [
      "<class 'pandas.core.frame.DataFrame'>\n",
      "Int64Index: 120448 entries, 0 to 93654\n",
      "Data columns (total 4 columns):\n",
      " #   Column              Non-Null Count   Dtype  \n",
      "---  ------              --------------   -----  \n",
      " 0   day                 120448 non-null  object \n",
      " 1   hour                120260 non-null  float64\n",
      " 2   forecast            120260 non-null  float64\n",
      " 3   precipitation type  120260 non-null  float64\n",
      "dtypes: float64(3), object(1)\n",
      "memory usage: 4.6+ MB\n"
     ]
    }
   ],
   "source": [
    "# 정보 확인\n",
    "precipitation_1.info()"
   ]
  },
  {
   "cell_type": "code",
   "execution_count": 23,
   "id": "997c87e4",
   "metadata": {},
   "outputs": [
    {
     "data": {
      "text/plain": [
       "day                     0\n",
       "hour                  188\n",
       "forecast              188\n",
       "precipitation type    188\n",
       "dtype: int64"
      ]
     },
     "execution_count": 23,
     "metadata": {},
     "output_type": "execute_result"
    }
   ],
   "source": [
    "# 결측치 확인 \n",
    "precipitation_1.isnull().sum()"
   ]
  },
  {
   "cell_type": "code",
   "execution_count": 24,
   "id": "6fa94992",
   "metadata": {},
   "outputs": [
    {
     "data": {
      "text/html": [
       "<div>\n",
       "<style scoped>\n",
       "    .dataframe tbody tr th:only-of-type {\n",
       "        vertical-align: middle;\n",
       "    }\n",
       "\n",
       "    .dataframe tbody tr th {\n",
       "        vertical-align: top;\n",
       "    }\n",
       "\n",
       "    .dataframe thead th {\n",
       "        text-align: right;\n",
       "    }\n",
       "</style>\n",
       "<table border=\"1\" class=\"dataframe\">\n",
       "  <thead>\n",
       "    <tr style=\"text-align: right;\">\n",
       "      <th></th>\n",
       "      <th>day</th>\n",
       "      <th>hour</th>\n",
       "      <th>forecast</th>\n",
       "      <th>precipitation type</th>\n",
       "    </tr>\n",
       "  </thead>\n",
       "  <tbody>\n",
       "    <tr>\n",
       "      <th>1</th>\n",
       "      <td>1</td>\n",
       "      <td>200.0</td>\n",
       "      <td>7.0</td>\n",
       "      <td>0.0</td>\n",
       "    </tr>\n",
       "    <tr>\n",
       "      <th>149</th>\n",
       "      <td>2</td>\n",
       "      <td>200.0</td>\n",
       "      <td>7.0</td>\n",
       "      <td>0.0</td>\n",
       "    </tr>\n",
       "    <tr>\n",
       "      <th>297</th>\n",
       "      <td>3</td>\n",
       "      <td>200.0</td>\n",
       "      <td>7.0</td>\n",
       "      <td>0.0</td>\n",
       "    </tr>\n",
       "    <tr>\n",
       "      <th>445</th>\n",
       "      <td>4</td>\n",
       "      <td>200.0</td>\n",
       "      <td>7.0</td>\n",
       "      <td>0.0</td>\n",
       "    </tr>\n",
       "    <tr>\n",
       "      <th>593</th>\n",
       "      <td>5</td>\n",
       "      <td>200.0</td>\n",
       "      <td>7.0</td>\n",
       "      <td>0.0</td>\n",
       "    </tr>\n",
       "    <tr>\n",
       "      <th>...</th>\n",
       "      <td>...</td>\n",
       "      <td>...</td>\n",
       "      <td>...</td>\n",
       "      <td>...</td>\n",
       "    </tr>\n",
       "    <tr>\n",
       "      <th>91112</th>\n",
       "      <td>27</td>\n",
       "      <td>200.0</td>\n",
       "      <td>7.0</td>\n",
       "      <td>0.0</td>\n",
       "    </tr>\n",
       "    <tr>\n",
       "      <th>91621</th>\n",
       "      <td>28</td>\n",
       "      <td>200.0</td>\n",
       "      <td>7.0</td>\n",
       "      <td>0.0</td>\n",
       "    </tr>\n",
       "    <tr>\n",
       "      <th>92130</th>\n",
       "      <td>29</td>\n",
       "      <td>200.0</td>\n",
       "      <td>7.0</td>\n",
       "      <td>0.0</td>\n",
       "    </tr>\n",
       "    <tr>\n",
       "      <th>92639</th>\n",
       "      <td>30</td>\n",
       "      <td>200.0</td>\n",
       "      <td>7.0</td>\n",
       "      <td>2.0</td>\n",
       "    </tr>\n",
       "    <tr>\n",
       "      <th>93148</th>\n",
       "      <td>31</td>\n",
       "      <td>200.0</td>\n",
       "      <td>7.0</td>\n",
       "      <td>0.0</td>\n",
       "    </tr>\n",
       "  </tbody>\n",
       "</table>\n",
       "<p>365 rows × 4 columns</p>\n",
       "</div>"
      ],
      "text/plain": [
       "       day   hour  forecast  precipitation type\n",
       "1        1  200.0       7.0                 0.0\n",
       "149      2  200.0       7.0                 0.0\n",
       "297      3  200.0       7.0                 0.0\n",
       "445      4  200.0       7.0                 0.0\n",
       "593      5  200.0       7.0                 0.0\n",
       "...    ...    ...       ...                 ...\n",
       "91112   27  200.0       7.0                 0.0\n",
       "91621   28  200.0       7.0                 0.0\n",
       "92130   29  200.0       7.0                 0.0\n",
       "92639   30  200.0       7.0                 2.0\n",
       "93148   31  200.0       7.0                 0.0\n",
       "\n",
       "[365 rows x 4 columns]"
      ]
     },
     "execution_count": 24,
     "metadata": {},
     "output_type": "execute_result"
    }
   ],
   "source": [
    "# 조건 색인으로 데이터프레임 재구성\n",
    "precipitation_j = precipitation_1[(precipitation_1['hour'] == 200) & (precipitation_1['forecast'] == 7)]\n",
    "\n",
    "precipitation_j"
   ]
  },
  {
   "cell_type": "code",
   "execution_count": 25,
   "id": "2ad393c7",
   "metadata": {},
   "outputs": [
    {
     "data": {
      "text/plain": [
       " 1     12\n",
       " 2     12\n",
       " 28    12\n",
       " 27    12\n",
       " 26    12\n",
       " 25    12\n",
       " 24    12\n",
       " 23    12\n",
       " 22    12\n",
       " 21    12\n",
       " 20    12\n",
       " 19    12\n",
       " 18    12\n",
       " 17    12\n",
       " 16    12\n",
       " 15    12\n",
       " 14    12\n",
       " 13    12\n",
       " 12    12\n",
       " 11    12\n",
       " 10    12\n",
       " 9     12\n",
       " 8     12\n",
       " 7     12\n",
       " 6     12\n",
       " 5     12\n",
       " 4     12\n",
       " 3     12\n",
       " 29    11\n",
       " 30    11\n",
       " 31     7\n",
       "Name: day, dtype: int64"
      ]
     },
     "execution_count": 25,
     "metadata": {},
     "output_type": "execute_result"
    }
   ],
   "source": [
    "# 누락 데이터 확인\n",
    "precipitation_j['day'].value_counts()"
   ]
  },
  {
   "cell_type": "code",
   "execution_count": 26,
   "id": "74c29551",
   "metadata": {},
   "outputs": [
    {
     "data": {
      "text/html": [
       "<div>\n",
       "<style scoped>\n",
       "    .dataframe tbody tr th:only-of-type {\n",
       "        vertical-align: middle;\n",
       "    }\n",
       "\n",
       "    .dataframe tbody tr th {\n",
       "        vertical-align: top;\n",
       "    }\n",
       "\n",
       "    .dataframe thead th {\n",
       "        text-align: right;\n",
       "    }\n",
       "</style>\n",
       "<table border=\"1\" class=\"dataframe\">\n",
       "  <thead>\n",
       "    <tr style=\"text-align: right;\">\n",
       "      <th></th>\n",
       "      <th>precipitation type</th>\n",
       "    </tr>\n",
       "  </thead>\n",
       "  <tbody>\n",
       "    <tr>\n",
       "      <th>1</th>\n",
       "      <td>0</td>\n",
       "    </tr>\n",
       "    <tr>\n",
       "      <th>149</th>\n",
       "      <td>0</td>\n",
       "    </tr>\n",
       "    <tr>\n",
       "      <th>297</th>\n",
       "      <td>0</td>\n",
       "    </tr>\n",
       "    <tr>\n",
       "      <th>445</th>\n",
       "      <td>0</td>\n",
       "    </tr>\n",
       "    <tr>\n",
       "      <th>593</th>\n",
       "      <td>0</td>\n",
       "    </tr>\n",
       "    <tr>\n",
       "      <th>...</th>\n",
       "      <td>...</td>\n",
       "    </tr>\n",
       "    <tr>\n",
       "      <th>91112</th>\n",
       "      <td>0</td>\n",
       "    </tr>\n",
       "    <tr>\n",
       "      <th>91621</th>\n",
       "      <td>0</td>\n",
       "    </tr>\n",
       "    <tr>\n",
       "      <th>92130</th>\n",
       "      <td>0</td>\n",
       "    </tr>\n",
       "    <tr>\n",
       "      <th>92639</th>\n",
       "      <td>2</td>\n",
       "    </tr>\n",
       "    <tr>\n",
       "      <th>93148</th>\n",
       "      <td>0</td>\n",
       "    </tr>\n",
       "  </tbody>\n",
       "</table>\n",
       "<p>365 rows × 1 columns</p>\n",
       "</div>"
      ],
      "text/plain": [
       "       precipitation type\n",
       "1                       0\n",
       "149                     0\n",
       "297                     0\n",
       "445                     0\n",
       "593                     0\n",
       "...                   ...\n",
       "91112                   0\n",
       "91621                   0\n",
       "92130                   0\n",
       "92639                   2\n",
       "93148                   0\n",
       "\n",
       "[365 rows x 1 columns]"
      ]
     },
     "execution_count": 26,
     "metadata": {},
     "output_type": "execute_result"
    }
   ],
   "source": [
    "# 불필요한 열 제거 후 float -> int형으로 변경\n",
    "precipitation_j = precipitation_j.drop(columns = {'day','hour','forecast'}).astype(int)\n",
    "\n",
    "\n",
    "precipitation_j"
   ]
  },
  {
   "cell_type": "code",
   "execution_count": 27,
   "id": "a83d1c5d",
   "metadata": {},
   "outputs": [],
   "source": [
    "# 병합시킬 데이터 불러오기\n",
    "jeju = pd.read_csv('../Dataset/raw_data/weather/jeju_weather.csv')"
   ]
  },
  {
   "cell_type": "code",
   "execution_count": 28,
   "id": "6c318931",
   "metadata": {},
   "outputs": [
    {
     "data": {
      "text/html": [
       "<div>\n",
       "<style scoped>\n",
       "    .dataframe tbody tr th:only-of-type {\n",
       "        vertical-align: middle;\n",
       "    }\n",
       "\n",
       "    .dataframe tbody tr th {\n",
       "        vertical-align: top;\n",
       "    }\n",
       "\n",
       "    .dataframe thead th {\n",
       "        text-align: right;\n",
       "    }\n",
       "</style>\n",
       "<table border=\"1\" class=\"dataframe\">\n",
       "  <thead>\n",
       "    <tr style=\"text-align: right;\">\n",
       "      <th></th>\n",
       "      <th>날짜</th>\n",
       "      <th>공휴일</th>\n",
       "      <th>요일</th>\n",
       "      <th>humidity(%)</th>\n",
       "      <th>강수확률</th>\n",
       "      <th>최고기온</th>\n",
       "      <th>precipitation type</th>\n",
       "    </tr>\n",
       "  </thead>\n",
       "  <tbody>\n",
       "    <tr>\n",
       "      <th>0</th>\n",
       "      <td>2021-01-01</td>\n",
       "      <td>1</td>\n",
       "      <td>금</td>\n",
       "      <td>75</td>\n",
       "      <td>30</td>\n",
       "      <td>5.0</td>\n",
       "      <td>0</td>\n",
       "    </tr>\n",
       "    <tr>\n",
       "      <th>1</th>\n",
       "      <td>2021-01-02</td>\n",
       "      <td>0</td>\n",
       "      <td>토</td>\n",
       "      <td>75</td>\n",
       "      <td>30</td>\n",
       "      <td>4.0</td>\n",
       "      <td>0</td>\n",
       "    </tr>\n",
       "    <tr>\n",
       "      <th>2</th>\n",
       "      <td>2021-01-03</td>\n",
       "      <td>0</td>\n",
       "      <td>일</td>\n",
       "      <td>75</td>\n",
       "      <td>30</td>\n",
       "      <td>7.0</td>\n",
       "      <td>0</td>\n",
       "    </tr>\n",
       "    <tr>\n",
       "      <th>3</th>\n",
       "      <td>2021-01-04</td>\n",
       "      <td>0</td>\n",
       "      <td>월</td>\n",
       "      <td>75</td>\n",
       "      <td>0</td>\n",
       "      <td>5.0</td>\n",
       "      <td>0</td>\n",
       "    </tr>\n",
       "    <tr>\n",
       "      <th>4</th>\n",
       "      <td>2021-01-05</td>\n",
       "      <td>0</td>\n",
       "      <td>화</td>\n",
       "      <td>75</td>\n",
       "      <td>30</td>\n",
       "      <td>2.0</td>\n",
       "      <td>0</td>\n",
       "    </tr>\n",
       "    <tr>\n",
       "      <th>...</th>\n",
       "      <td>...</td>\n",
       "      <td>...</td>\n",
       "      <td>...</td>\n",
       "      <td>...</td>\n",
       "      <td>...</td>\n",
       "      <td>...</td>\n",
       "      <td>...</td>\n",
       "    </tr>\n",
       "    <tr>\n",
       "      <th>360</th>\n",
       "      <td>2021-12-27</td>\n",
       "      <td>0</td>\n",
       "      <td>월</td>\n",
       "      <td>80</td>\n",
       "      <td>30</td>\n",
       "      <td>6.0</td>\n",
       "      <td>0</td>\n",
       "    </tr>\n",
       "    <tr>\n",
       "      <th>361</th>\n",
       "      <td>2021-12-28</td>\n",
       "      <td>0</td>\n",
       "      <td>화</td>\n",
       "      <td>85</td>\n",
       "      <td>30</td>\n",
       "      <td>8.0</td>\n",
       "      <td>0</td>\n",
       "    </tr>\n",
       "    <tr>\n",
       "      <th>362</th>\n",
       "      <td>2021-12-29</td>\n",
       "      <td>0</td>\n",
       "      <td>수</td>\n",
       "      <td>75</td>\n",
       "      <td>30</td>\n",
       "      <td>4.0</td>\n",
       "      <td>0</td>\n",
       "    </tr>\n",
       "    <tr>\n",
       "      <th>363</th>\n",
       "      <td>2021-12-30</td>\n",
       "      <td>0</td>\n",
       "      <td>목</td>\n",
       "      <td>65</td>\n",
       "      <td>60</td>\n",
       "      <td>2.0</td>\n",
       "      <td>2</td>\n",
       "    </tr>\n",
       "    <tr>\n",
       "      <th>364</th>\n",
       "      <td>2021-12-31</td>\n",
       "      <td>0</td>\n",
       "      <td>금</td>\n",
       "      <td>80</td>\n",
       "      <td>30</td>\n",
       "      <td>5.0</td>\n",
       "      <td>0</td>\n",
       "    </tr>\n",
       "  </tbody>\n",
       "</table>\n",
       "<p>365 rows × 7 columns</p>\n",
       "</div>"
      ],
      "text/plain": [
       "             날짜  공휴일 요일  humidity(%)  강수확률  최고기온  precipitation type\n",
       "0    2021-01-01    1  금           75    30   5.0                   0\n",
       "1    2021-01-02    0  토           75    30   4.0                   0\n",
       "2    2021-01-03    0  일           75    30   7.0                   0\n",
       "3    2021-01-04    0  월           75     0   5.0                   0\n",
       "4    2021-01-05    0  화           75    30   2.0                   0\n",
       "..          ...  ... ..          ...   ...   ...                 ...\n",
       "360  2021-12-27    0  월           80    30   6.0                   0\n",
       "361  2021-12-28    0  화           85    30   8.0                   0\n",
       "362  2021-12-29    0  수           75    30   4.0                   0\n",
       "363  2021-12-30    0  목           65    60   2.0                   2\n",
       "364  2021-12-31    0  금           80    30   5.0                   0\n",
       "\n",
       "[365 rows x 7 columns]"
      ]
     },
     "execution_count": 28,
     "metadata": {},
     "output_type": "execute_result"
    }
   ],
   "source": [
    "# 제주시 강수형태 데이터 기존 데이터와 병합\n",
    "jeju = pd.concat([jeju.reset_index(drop=True), precipitation_j.reset_index(drop=True)],axis=1)\n",
    "\n",
    "jeju"
   ]
  },
  {
   "cell_type": "code",
   "execution_count": 29,
   "id": "0a877633",
   "metadata": {},
   "outputs": [],
   "source": [
    "# 제주시 데이터셋 csv 저장\n",
    "jeju.to_csv('../Dataset/raw_data/weather/jeju_weather.csv' ,index = False)"
   ]
  },
  {
   "cell_type": "code",
   "execution_count": null,
   "id": "f0b6fba9",
   "metadata": {},
   "outputs": [],
   "source": []
  }
 ],
 "metadata": {
  "kernelspec": {
   "display_name": "Python 3 (ipykernel)",
   "language": "python",
   "name": "python3"
  },
  "language_info": {
   "codemirror_mode": {
    "name": "ipython",
    "version": 3
   },
   "file_extension": ".py",
   "mimetype": "text/x-python",
   "name": "python",
   "nbconvert_exporter": "python",
   "pygments_lexer": "ipython3",
   "version": "3.8.5"
  }
 },
 "nbformat": 4,
 "nbformat_minor": 5
}
